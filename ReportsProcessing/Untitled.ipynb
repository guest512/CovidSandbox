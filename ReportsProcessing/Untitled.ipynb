{
 "cells": [
  {
   "cell_type": "code",
   "execution_count": null,
   "metadata": {
    "tags": []
   },
   "outputs": [],
   "source": [
    "!pip install seaborn"
   ]
  },
  {
   "cell_type": "code",
   "execution_count": null,
   "metadata": {},
   "outputs": [],
   "source": [
    "import pandas as pd\n",
    "import numpy as np\n",
    "from utils import storage, plot, helpers, dates\n",
    "\n",
    "from IPython.display import display, Markdown\n",
    "from matplotlib import pyplot\n",
    "import matplotlib.pyplot as plt\n",
    "\n",
    "\n",
    "import seaborn as sns\n"
   ]
  },
  {
   "cell_type": "code",
   "execution_count": null,
   "metadata": {},
   "outputs": [],
   "source": [
    "# top 20 Russuian regions by total cases\n",
    "\n",
    "test_df = storage.get_regions_report_by_column(\"Russia\", \"Confirmed\").iloc[-1].sort_values(ascending = False)\n",
    "test_df\n",
    "\n",
    "top_20_regions = test_df.iloc[:20].index.tolist()\n",
    "top_20_regions\n",
    "\n",
    "middle_20_regions = test_df.iloc[20:40].index.tolist()\n",
    "middle_20_regions_and_Moscow.append(\"Москва\")\n"
   ]
  },
  {
   "cell_type": "code",
   "execution_count": null,
   "metadata": {},
   "outputs": [],
   "source": [
    "\n",
    "regions_df = storage.get_regions_report_by_column(\"Russia\", \"Confirmed_Change\")[middle_20_regions_and_Moscow]\n",
    "regions_df.head()"
   ]
  },
  {
   "cell_type": "code",
   "execution_count": null,
   "metadata": {},
   "outputs": [],
   "source": [
    "f, ax = plt.subplots(figsize=(15, 15))\n",
    "sns.heatmap(regions_df.corr(), annot = True, cmap= 'coolwarm')\n",
    "plt.title('Correlations between Russuian Regions', fontsize = 16) "
   ]
  },
  {
   "cell_type": "code",
   "execution_count": null,
   "metadata": {},
   "outputs": [],
   "source": [
    "start = pd.to_datetime('01-04-2020', dayfirst=True)\n",
    "end = pd.to_datetime('01-07-2020', dayfirst=True)\n",
    "\n",
    "europe_df = storage.get_countries_report_by_column(\"Confirmed_Change\", include = [\"Spain\", \"France\", \"Italy\", \"Germany\", \"Portugal\", \"UK\", \"Austria\", \"Poland\", \"Hungary\", \"Czechia\", \"Ireland\"])\n",
    "europe_df=Europe_df[start:end]"
   ]
  },
  {
   "cell_type": "code",
   "execution_count": null,
   "metadata": {},
   "outputs": [],
   "source": [
    "f, ax = plt.subplots(figsize=(15, 15))\n",
    "sns.heatmap(Europe_df.corr(), annot = True, cmap= 'coolwarm')\n",
    "plt.title('Correlations between Europian Countries', fontsize = 16) "
   ]
  },
  {
   "cell_type": "code",
   "execution_count": null,
   "metadata": {},
   "outputs": [],
   "source": [
    "europe_df = storage.get_countries_report_by_column(\"Confirmed_Change\", include = [\"China\", \"Italy\", \"Ireland\", \"Germany\", \"Portugal\", \"UK\", \"Canada\", \"Russia\", \"Mexico\",  \"Australia\", \"US\", \"Poland\", \"India\", \"Japan\", \"Hungary\", \"Czechia\", \"France\", \"Austria\", \"Spain\"])\n",
    "europe_df_norm = europe_df.resample(\"1M\").sum().apply(helpers.normalize)"
   ]
  },
  {
   "cell_type": "code",
   "execution_count": null,
   "metadata": {},
   "outputs": [],
   "source": [
    "fig, ax = plt.subplots(figsize=(15, 15))\n",
    "sns.heatmap(europe_df_norm, square=True, cbar = False, annot = True, cmap= 'coolwarm')\n",
    "\n",
    "plt.title('Heatmap of Normalized Confirmed Change by Month', fontsize = 16) \n",
    "plt.xlabel('Countries', fontsize = 15) \n",
    "plt.ylabel('Monthes', fontsize = 15) "
   ]
  },
  {
   "cell_type": "code",
   "execution_count": null,
   "metadata": {},
   "outputs": [],
   "source": [
    "\"China\", \"Italy\", \"France\", , \"Germany\", \"Portugal\", \"UK\", \"Canada\", \"Russia\", \"Mexico\",  \"Australia\", \"US\", \"Poland\", \"India\", \"Japan\", \"Hungary\", \"Czechia\", \"Ireland\",  \n",
    " \"Austria\", \"Spain\""
   ]
  }
 ],
 "metadata": {
  "kernelspec": {
   "display_name": "Python 3",
   "language": "python",
   "name": "python3"
  },
  "language_info": {
   "codemirror_mode": {
    "name": "ipython",
    "version": 3
   },
   "file_extension": ".py",
   "mimetype": "text/x-python",
   "name": "python",
   "nbconvert_exporter": "python",
   "pygments_lexer": "ipython3",
   "version": "3.8.3-final"
  }
 },
 "nbformat": 4,
 "nbformat_minor": 4
}