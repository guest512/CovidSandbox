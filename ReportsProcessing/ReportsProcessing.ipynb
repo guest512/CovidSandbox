{
 "cells": [
  {
   "cell_type": "code",
   "execution_count": null,
   "metadata": {},
   "outputs": [],
   "source": [
    "import pandas as pd\n",
    "import numpy as np\n",
    "import reportsutils as utils\n",
    "from matplotlib import pyplot\n",
    "\n"
   ]
  },
  {
   "cell_type": "code",
   "execution_count": null,
   "metadata": {},
   "outputs": [],
   "source": [
    "countries_list = [\"Germany\", \"Spain\", \"Austria\", \"Switzerland\", \"Italy\", \"France\"]"
   ]
  },
  {
   "cell_type": "code",
   "execution_count": null,
   "metadata": {
    "tags": []
   },
   "outputs": [],
   "source": [
    "pyplot.figure(figsize=(18,10))\n",
    "\n",
    "ax = pyplot.subplot(111)\n",
    "ax.xaxis_date()\n",
    "\n",
    "column_name = 'Confirmed_Change'\n",
    "\n",
    "for country in countries_list:\n",
    "    country_df = utils.get_country_report(country)\n",
    "    #country_df = country_df[country_df.index >pd.to_datetime('01-05-2020',dayfirst=True)]\n",
    "    \n",
    "    country_df[column_name+'_SMA7'] = country_df[column_name].rolling(window=7).mean()\n",
    "    ax.bar(country_df.index, country_df[column_name].values, label=country, alpha=0.1)\n",
    "    ax.plot(country_df.index, country_df[column_name+'_SMA7'].values, label=country + '-SMA7') \n",
    "\n",
    "ax.legend()\n",
    "#ax.set_ylim(top=800)\n",
    "pyplot.yscale(\"log\")\n",
    "pyplot.show()"
   ]
  },
  {
   "cell_type": "code",
   "execution_count": null,
   "metadata": {
    "tags": []
   },
   "outputs": [],
   "source": [
    "pyplot.figure(figsize=(18,10))\n",
    "\n",
    "ax = pyplot.subplot(111)\n",
    "ax.xaxis_date()\n",
    "\n",
    "for country in utils.get_countries():\n",
    "    country_df = utils.get_country_report(country)\n",
    "    #country_df = country_df[country_df.Date >pd.to_datetime('01-05-2020',dayfirst=True)]\n",
    "\n",
    "    country_df['Confirmed_Change_Normalized'] = utils.normalize(country_df['Confirmed_Change'])\n",
    "    #condition_row = country_df[country_df.Confirmed_Change_Normalized >= 0.05].iloc[0]\n",
    "    #country_df = country_df[condition_row.name:]\n",
    "    \n",
    "    country_df['Confirmed_Change_SMA7'] = utils.normalize(country_df['Confirmed_Change'].rolling(window=7).mean())\n",
    "    country_df['Confirmed_Change_SMA14'] = utils.normalize(country_df['Confirmed_Change'].rolling(window=14).mean())\n",
    "\n",
    "    #country_df.dropna(inplace=True, subset=['Confirmed_Change_SMA14'])\n",
    "\n",
    "    #country_df.reset_index(inplace=True, drop=True)\n",
    "\n",
    "    #ax.bar(country_df.index, country_df['Confirmed_Change_Normalized'].values, label=country, alpha=0.1)\n",
    "    ax.plot(country_df.index, country_df['Confirmed_Change_SMA14'].values, alpha = 0.05, color = \"Blue\")\n",
    "    #if(country in countries_list):\n",
    "    #    ax.plot(country_df.index, country_df['Confirmed_Change_SMA14'].values, color = \"Green\")\n",
    "\n",
    "df = utils.get_countries_report_by_column(\"Confirmed_Change\")\n",
    "df.fillna(0, inplace=True)\n",
    "df['Total'] = df.sum(axis =1)\n",
    "df['Total_Normalized'] = utils.normalize(df.Total)\n",
    "df['Total_SMA'] = utils.normalize(df.Total.rolling(window=14).mean())\n",
    "\n",
    "ax.plot(df.index, df.Total_SMA.values, color = \"Red\", label = \"Среднее по миру\", alpha = 0.7)\n",
    "\n",
    "ax.set_ylim(bottom=0, top = 1)\n",
    "pyplot.title(\"Нормализованное количество заболевших в день\")\n",
    "ax.legend(loc='upper left')\n",
    "pyplot.show()\n"
   ]
  },
  {
   "cell_type": "code",
   "execution_count": null,
   "metadata": {
    "tags": []
   },
   "outputs": [],
   "source": [
    "column_name = \"Confirmed_Change\"\n",
    "start_date = pd.to_datetime('01-04-2020', dayfirst=True)\n",
    "\n",
    "moscow_df = utils.get_region_report(\"Russia\", \"Москва\")[start_date:]\n",
    "regions_df = utils.get_regions_report_by_column(\"Russia\", column_name, exclude=[\"Москва\"], start_date=start_date)\n"
   ]
  },
  {
   "cell_type": "code",
   "execution_count": null,
   "metadata": {},
   "outputs": [],
   "source": [
    "pyplot.figure(figsize=(18,10))\n",
    "\n",
    "ax = pyplot.subplot(111)\n",
    "ax.xaxis_date()\n",
    "\n",
    "regions_df['Total'] = 0\n",
    "regions_df['Total'] = regions_df.sum(axis = 1)\n",
    "\n",
    "ax.bar(regions_df.index, regions_df['Total'].values, label = 'Регионы', alpha=0.3)\n",
    "ax.plot(regions_df.index, regions_df['Total'].rolling(window=7).mean(), label= 'Регионы-SMA7')\n",
    "\n",
    "ax.bar(moscow_df.index, moscow_df[column_name].values, label = 'Москва', alpha = 0.3)\n",
    "ax.plot(moscow_df.index, moscow_df[column_name].rolling(window=7).mean(), label= 'Москва-SMA7')\n",
    "\n",
    "\n",
    "utils.draw_key_russian_dates_on_plot(ax)\n",
    "#ax.axhspan(5700, 6100, 0.75, 0.9, alpha = 0.4, color = 'Grey')\n",
    "#ax.axhspan(500, 700, 0.78, 0.95, alpha = 0.4, color = 'Grey', label = \"Неизменное число заболевших\")\n",
    "\n",
    "#ax.set_ylim(bottom=5000, top = 6500)\n",
    "ax.legend(loc='upper left')\n",
    "ax.set_title('Количество заболевших в день в Москве и остальной России')\n",
    "ax.grid(axis='y', color='black', linestyle='dashed', alpha=0.4)\n",
    "pyplot.show()"
   ]
  },
  {
   "cell_type": "code",
   "execution_count": null,
   "metadata": {},
   "outputs": [],
   "source": [
    "pyplot.figure(figsize=(20,15))\n",
    "\n",
    "ax = pyplot.subplot(111)\n",
    "ax.xaxis_date()\n",
    "\n",
    "column_name = 'Recovered_Change'\n",
    "\n",
    "for region_name in [\"Санкт-Петербург\", \"Ростовская обл.\", \"Краснодарский край\", \"Хабаровский край\"]:\n",
    "    region_df = utils.get_region_report(\"Russia\", region_name)[start_date:]\n",
    "\n",
    "    ax.bar(region_df.index, region_df[column_name].values, label = region_name+'-'+column_name, alpha=0.3)\n",
    "    ax.plot(\n",
    "        region_df.index,\n",
    "        region_df[column_name].rolling(window=7).mean().values,\n",
    "        label = region_name+'-'+column_name+'-SMA7',\n",
    "        alpha=0.9)\n",
    "\n",
    "utils.draw_key_russian_dates_on_plot(ax)\n",
    "\n",
    "#ax.set_ylim(bottom=5000, top = 6500)\n",
    "ax.legend(loc='upper left')\n",
    "pyplot.show()"
   ]
  },
  {
   "cell_type": "code",
   "execution_count": null,
   "metadata": {
    "tags": []
   },
   "outputs": [],
   "source": [
    "regions = list(utils.get_country_regions(\"Russia\"))\n",
    "\n",
    "i=1\n",
    "\n",
    "for region in regions:\n",
    "    pyplot.figure(figsize=(18*2,10))\n",
    "    ax = pyplot.subplot(1,2,1)\n",
    "    dfdf = utils.get_region_report(\"Russia\", region)[60:]\n",
    "\n",
    "    index = dfdf.index\n",
    "\n",
    "    confirmed = dfdf.Confirmed_Change\n",
    "    confirmed_SMA7 = confirmed.rolling(window=7).mean()\n",
    "\n",
    "    recovered = dfdf.Recovered_Change\n",
    "    recovered_SMA7 = recovered.rolling(window=7).mean()\n",
    "\n",
    "    deaths = dfdf.Deaths_Change\n",
    "    deaths_SMA7 = deaths.rolling(window=7).mean()\n",
    "\n",
    "    active = dfdf.Active\n",
    "    active_SMA7 = active.rolling(window=7).mean()\n",
    "\n",
    "    ax.xaxis_date()\n",
    "\n",
    "    ax.bar(index, confirmed, label = 'Заболевшие', alpha=0.3)\n",
    "    ax.plot(index, confirmed_SMA7, label= 'Заболевшие-SMA7')\n",
    "\n",
    "    ax.bar(index, recovered, label = 'Выздоровевшие', alpha = 0.3)\n",
    "    ax.plot(index, recovered_SMA7, label= 'Выздоровевшие-SMA7')\n",
    "\n",
    "    ax.bar(index, deaths, label = 'Смерти', alpha = 0.3, bottom = recovered)\n",
    "    ax.plot(index, recovered_SMA7+deaths_SMA7, label= 'Смерти-SMA7')\n",
    "\n",
    "    utils.draw_key_russian_dates_on_plot(ax)\n",
    "\n",
    "    ax.set_ylim(bottom=0)\n",
    "    ax.legend(loc='upper left')\n",
    "    ax.grid(axis='y', color='black', linestyle='dashed', alpha=0.4)\n",
    "\n",
    "    ax = pyplot.subplot(1,2,2)\n",
    "\n",
    "    ax.xaxis_date()\n",
    "\n",
    "    ax.bar(index, active, label = 'Больные', alpha=0.3)\n",
    "    ax.plot(index, active_SMA7, label= 'Больные-SMA7')\n",
    "\n",
    "    utils.draw_key_russian_dates_on_plot(ax)\n",
    "\n",
    "    ax.set_ylim(bottom=0)\n",
    "    ax.legend(loc='upper left')\n",
    "    ax.grid(axis='y', color='black', linestyle='dashed', alpha=0.4)\n",
    "\n",
    "\n",
    "    pyplot.suptitle(region)\n",
    "    pyplot.show()\n",
    "\n",
    "    i+=1\n",
    "\n"
   ]
  },
  {
   "cell_type": "code",
   "execution_count": null,
   "metadata": {},
   "outputs": [],
   "source": [
    "dt = pd.DataFrame()\n",
    "\n",
    "\n",
    "sub1 = pd.DataFrame([2,3,8], [1,2,3], columns = [\"Index\"])\n",
    "sub2 = pd.DataFrame([0,1,3,6], [3,4,5,6], columns= [\"Idx\"])"
   ]
  },
  {
   "cell_type": "code",
   "execution_count": null,
   "metadata": {},
   "outputs": [],
   "source": [
    "sub1"
   ]
  },
  {
   "cell_type": "code",
   "execution_count": null,
   "metadata": {},
   "outputs": [],
   "source": [
    "sub2"
   ]
  },
  {
   "cell_type": "code",
   "execution_count": null,
   "metadata": {},
   "outputs": [],
   "source": [
    "dt[\"sub1\"] = sub1.Index\n",
    "pd.concat([sub1.Index,sub2.Idx], axis=1)"
   ]
  },
  {
   "cell_type": "code",
   "execution_count": null,
   "metadata": {},
   "outputs": [],
   "source": [
    "sub2"
   ]
  },
  {
   "cell_type": "code",
   "execution_count": null,
   "metadata": {},
   "outputs": [],
   "source": []
  }
 ],
 "metadata": {
  "language_info": {
   "codemirror_mode": {
    "name": "ipython",
    "version": 3
   },
   "file_extension": ".py",
   "mimetype": "text/x-python",
   "name": "python",
   "nbconvert_exporter": "python",
   "pygments_lexer": "ipython3",
   "version": "3.8.3-final"
  },
  "orig_nbformat": 2,
  "kernelspec": {
   "name": "python_defaultSpec_1595926133888",
   "display_name": "Python 3.8.3 32-bit"
  }
 },
 "nbformat": 4,
 "nbformat_minor": 2
}