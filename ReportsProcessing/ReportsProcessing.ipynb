{
 "cells": [
  {
   "cell_type": "code",
   "execution_count": 1,
   "metadata": {
    "tags": []
   },
   "outputs": [],
   "source": [
    "import pandas as pd\n",
    "import numpy as np\n",
    "import utils\n",
    "\n",
    "from IPython.display import display, Markdown\n",
    "from matplotlib import pyplot"
   ]
  },
  {
   "cell_type": "code",
   "execution_count": 2,
   "metadata": {
    "tags": []
   },
   "outputs": [
    {
     "output_type": "display_data",
     "data": {
      "text/plain": "<IPython.core.display.Markdown object>",
      "text/markdown": "# Песочница по статистике по коронавирусу COVID-19"
     },
     "metadata": {}
    },
    {
     "output_type": "display_data",
     "data": {
      "text/plain": "<IPython.core.display.Markdown object>",
      "text/markdown": "---"
     },
     "metadata": {}
    },
    {
     "output_type": "error",
     "ename": "NameError",
     "evalue": "name 'helpers' is not defined",
     "traceback": [
      "\u001b[1;31m---------------------------------------------------------------------------\u001b[0m",
      "\u001b[1;31mNameError\u001b[0m                                 Traceback (most recent call last)",
      "\u001b[1;32m<ipython-input-2-fb4a1d630702>\u001b[0m in \u001b[0;36m<module>\u001b[1;34m\u001b[0m\n\u001b[0;32m      4\u001b[0m \u001b[0mdisplay\u001b[0m\u001b[1;33m(\u001b[0m\u001b[0mMarkdown\u001b[0m\u001b[1;33m(\u001b[0m\u001b[1;34m'# Песочница по статистике по коронавирусу COVID-19'\u001b[0m\u001b[1;33m)\u001b[0m\u001b[1;33m)\u001b[0m\u001b[1;33m\u001b[0m\u001b[1;33m\u001b[0m\u001b[0m\n\u001b[0;32m      5\u001b[0m \u001b[0mdisplay\u001b[0m\u001b[1;33m(\u001b[0m\u001b[0mMarkdown\u001b[0m\u001b[1;33m(\u001b[0m\u001b[1;34m'---'\u001b[0m\u001b[1;33m)\u001b[0m\u001b[1;33m)\u001b[0m\u001b[1;33m\u001b[0m\u001b[1;33m\u001b[0m\u001b[0m\n\u001b[1;32m----> 6\u001b[1;33m \u001b[1;32mwith\u001b[0m \u001b[0mhelpers\u001b[0m\u001b[1;33m.\u001b[0m\u001b[0msetlocale_ctx\u001b[0m\u001b[1;33m(\u001b[0m\u001b[1;34m'ru_RU'\u001b[0m\u001b[1;33m)\u001b[0m\u001b[1;33m:\u001b[0m\u001b[1;33m\u001b[0m\u001b[1;33m\u001b[0m\u001b[0m\n\u001b[0m\u001b[0;32m      7\u001b[0m     display(Markdown(f\"Данные в отчетах охватывают период \\\n\u001b[0;32m      8\u001b[0m          \u001b[0mс\u001b[0m \u001b[1;34m'_{dates.first_day.date().strftime('\u001b[0m\u001b[1;33m%\u001b[0m\u001b[0md\u001b[0m \u001b[1;33m%\u001b[0m\u001b[0mB\u001b[0m\u001b[1;33m,\u001b[0m \u001b[1;33m%\u001b[0m\u001b[0mY\u001b[0m\u001b[1;34m')}_'\u001b[0m\u001b[0;31m \u001b[0m\u001b[0;31m\\\u001b[0m\u001b[1;33m\u001b[0m\u001b[1;33m\u001b[0m\u001b[0m\n",
      "\u001b[1;31mNameError\u001b[0m: name 'helpers' is not defined"
     ]
    }
   ],
   "source": [
    "today = utils.last_day\n",
    "yesterday = today - utils.one_day\n",
    "\n",
    "display(Markdown('# Песочница по статистике по коронавирусу COVID-19'))\n",
    "display(Markdown('---'))\n",
    "with utils.setlocale_ctx('ru_RU'):\n",
    "    display(Markdown(f\"Данные в отчетах охватывают период \\\n",
    "         с '_{dates.first_day.date().strftime('%d %B, %Y')}_' \\\n",
    "         по '_{dates.last_day.date().strftime('%d %B, %Y')}_'. \\\n",
    "        За \\\"Сегодня\\\" принят последний доступный день в отчетах\"))"
   ]
  },
  {
   "cell_type": "code",
   "execution_count": null,
   "metadata": {},
   "outputs": [],
   "source": [
    "display(Markdown(\"## Топ десять стран по количеству заболевших на \\\"Сегодня\\\"\"))\n",
    "display(Markdown(\"В таблице представлены ТОП-10 стран отсортированны по количеству заболевших на \\\"Сегодня\\\", а также с данными по количеству заболевших за последние 7 дней\"))\n",
    "\n",
    "storage.get_countries_report_by_column(\"Confirmed_Change\", start_date=today - one_day * 6).fillna(0).sort_values(by=today, axis = 1).iloc[:,-10:]"
   ]
  },
  {
   "cell_type": "code",
   "execution_count": null,
   "metadata": {
    "tags": []
   },
   "outputs": [],
   "source": [
    "display(Markdown(\"## Динамика ТОП-5 стран по количеству заболевших на \\\"Сегодня\\\"\"))\n",
    "display(Markdown(\"Здесь и ниже суффикс SMA означает среднее количество за N дней.\"))\n",
    "\n",
    "countries_list = list(storage.get_countries_report_by_column(\"Confirmed_Change\", start_date=today).fillna(0).sort_values(by=today, axis = 1).iloc[:,-5:].columns)\n",
    "\n",
    "pyplot.figure(figsize=(18,10))\n",
    "\n",
    "ax = pyplot.subplot(111)\n",
    "ax.xaxis_date()\n",
    "\n",
    "column_name = 'Confirmed_Change'\n",
    "\n",
    "for country in countries_list:\n",
    "    country_df = storage.get_country_report(country)\n",
    "    plot.bar_with_sma_line(ax, country_df[column_name], 10, country, 0.1)\n",
    "ax.legend()\n",
    "ax.set_xlim(pd.to_datetime('15-03-2020', dayfirst=True))\n",
    "ax.set_ylim(bottom=100)\n",
    "pyplot.yscale(\"log\")\n",
    "pyplot.show()"
   ]
  },
  {
   "cell_type": "code",
   "execution_count": null,
   "metadata": {
    "tags": []
   },
   "outputs": [],
   "source": [
    "pyplot.figure(figsize=(18,10))\n",
    "\n",
    "ax = pyplot.subplot(111)\n",
    "ax.xaxis_date()\n",
    "\n",
    "all_countries = storage.get_countries_report_by_column(column_name).fillna(0).apply(helpers.normalize)\n",
    "mean = all_countries.mean(axis=1)\n",
    "median = all_countries.quantile(.5, axis=1)\n",
    "\n",
    "plot.bar_with_sma_line(ax, mean, label=\"Среднее\")\n",
    "plot.bar_with_sma_line(ax, median, label=\"Медианное\")\n",
    "ax.legend()\n",
    "\n",
    "ax.set_xlim(pd.to_datetime('01-03-2020', dayfirst=True))\n",
    "pyplot.title(\"Нормализованное количество заболевших в день\")\n",
    "pyplot.show()\n"
   ]
  },
  {
   "cell_type": "code",
   "execution_count": null,
   "metadata": {
    "tags": []
   },
   "outputs": [],
   "source": [
    "column_name = \"Confirmed_Change\"\n",
    "start_date = pd.to_datetime('01-04-2020', dayfirst=True)\n",
    "\n",
    "moscow_df = storage.get_region_report(\"Russia\", \"Москва\")[start_date:]\n",
    "regions_df = storage.get_regions_report_by_column(\"Russia\", column_name, exclude=[\"Москва\"], start_date=start_date)\n"
   ]
  },
  {
   "cell_type": "code",
   "execution_count": null,
   "metadata": {},
   "outputs": [],
   "source": [
    "pyplot.figure(figsize=(18,10))\n",
    "\n",
    "ax = pyplot.subplot(111)\n",
    "ax.xaxis_date()\n",
    "\n",
    "regions_df['Total'] = 0\n",
    "regions_df['Total'] = regions_df.sum(axis = 1)\n",
    "\n",
    "plot.bar_with_sma_line(ax, regions_df.Total, 3, 'Регионы')\n",
    "plot.bar_with_sma_line(ax, moscow_df[column_name], 3, 'Москва')\n",
    "plot.key_russian_dates(ax)\n",
    "\n",
    "#ax.set_ylim(bottom=5000, top = 6500)\n",
    "ax.legend(loc='upper left')\n",
    "ax.set_title('Количество заболевших в день в Москве и остальной России')\n",
    "ax.grid(axis='y', color='black', linestyle='dashed', alpha=0.4)\n",
    "pyplot.show()"
   ]
  },
  {
   "cell_type": "code",
   "execution_count": null,
   "metadata": {},
   "outputs": [],
   "source": [
    "display(Markdown(\"## Динамика ТОП-10 регионов по количеству заболевших на \\\"Сегодня\\\"\"))\n",
    "\n",
    "column_name = 'Confirmed_Change'\n",
    "regions_list = list(storage.get_regions_report_by_column(\"Russia\",column_name, start_date=today).fillna(0).sort_values(by=today, axis = 1).iloc[:,-10:].columns)\n",
    "regions_list.reverse()\n",
    "\n",
    "pyplot.figure(figsize=(18,10))\n",
    "\n",
    "ax = pyplot.subplot(111)\n",
    "ax.xaxis_date()\n",
    "\n",
    "for region in regions_list:\n",
    "    region_df = storage.get_region_report(\"Russia\", region)\n",
    "    plot.bar_with_sma_line(ax, region_df[column_name], 10, region, 0.1)\n",
    "ax.legend()\n",
    "ax.set_xlim(pd.to_datetime('01-04-2020', dayfirst=True),today)\n",
    "pyplot.show()"
   ]
  },
  {
   "cell_type": "code",
   "execution_count": null,
   "metadata": {},
   "outputs": [],
   "source": [
    "pyplot.figure(figsize=(24,12))\n",
    "\n",
    "ax = pyplot.subplot(111)\n",
    "ax.xaxis_date()\n",
    "\n",
    "column_name = 'Confirmed_Change'\n",
    "\n",
    "for region_name in [\"Санкт-Петербург\", \"Ростовская обл.\", \"Краснодарский край\", \"Хабаровский край\"]:\n",
    "    region_df = storage.get_region_report(\"Russia\", region_name)[start_date:]\n",
    "\n",
    "    plot.bar_with_sma_line(ax, region_df[column_name], 7, region_name+'-'+column_name, 0.2)\n",
    "plot.key_russian_dates(ax)\n",
    "\n",
    "#ax.set_ylim(bottom=5000, top = 6500)\n",
    "ax.legend(loc='upper left')\n",
    "pyplot.show()"
   ]
  },
  {
   "cell_type": "code",
   "execution_count": null,
   "metadata": {
    "scrolled": false,
    "tags": []
   },
   "outputs": [],
   "source": [
    "regions = [\"Москва\", \"Санкт-Петербург\", \"Ростовская обл.\", \"Краснодарский край\"] #list(utils.get_country_regions(\"Russia\"))\n",
    "figure = pyplot.figure(figsize=(24,24))\n",
    "plot.report(figure, storage.get_country_report(\"Russia\"), \"Россия\", start_date = start_date)\n",
    "\n",
    "for region in regions:\n",
    "    figure = pyplot.figure(figsize=(24,24))\n",
    "    plot.report(figure, storage.get_region_report(\"Russia\", region), region, start_date = start_date)"
   ]
  },
  {
   "cell_type": "code",
   "execution_count": null,
   "metadata": {
    "tags": []
   },
   "outputs": [],
   "source": [
    "pyplot.figure(figsize=(18,10))\n",
    "\n",
    "ax = pyplot.subplot(111)\n",
    "ax.xaxis_date()\n",
    "\n",
    "country_name = \"Russia\"\n",
    "column_name = \"Confirmed_Change\"\n",
    "all_regions = storage.get_regions_report_by_column(country_name,column_name,start_date=pd.to_datetime(\"01-04-2020\",dayfirst=True)).apply(helpers.normalize)\n",
    "\n",
    "for region in all_regions.columns:\n",
    "    ax.bar(all_regions.index, all_regions[region], alpha = 1/len(all_regions), color = \"Blue\")\n",
    "\n",
    "mean = all_regions.mean(axis=1)\n",
    "median = all_regions.median(axis=1)\n",
    "ax.plot(mean.index,mean, color = \"Red\", label = \"Mean\")\n",
    "ax.plot(median.index,median, color = \"Yellow\", label=\"Median\")\n",
    "plot.key_russian_dates(ax)\n",
    "ax.axhline(1,color='black', linestyle='dashed', alpha=1)\n",
    "\n",
    "ax.set_ylim(bottom=0, top = 1)\n",
    "ax.legend()\n",
    "pyplot.title(\"Нормализованное количество заболевших в день\")\n",
    "pyplot.show()\n"
   ]
  },
  {
   "cell_type": "code",
   "execution_count": null,
   "metadata": {},
   "outputs": [],
   "source": [
    "pyplot.figure(figsize=(24,12))\n",
    "\n",
    "ax = pyplot.subplot(111)\n",
    "ax.xaxis_date()\n",
    "\n",
    "column_name = 'Rt'\n",
    "\n",
    "for region_name in [\"Санкт-Петербург\", \"Ростовская обл.\", \"Краснодарский край\", \"Хабаровский край\"]:\n",
    "    region_df = storage.get_region_report(\"Russia\", region_name)\n",
    "\n",
    "    plot.bar_with_sma_line(ax, region_df[column_name], 7, region_name+'-'+column_name, 0.1)\n",
    "plot.key_russian_dates(ax)\n",
    "\n",
    "ax.axhline(1,color='black', linestyle='dashed', alpha=1)\n",
    "ax.set_xlim(start_date)\n",
    "ax.set_ylim(0.6, 2)\n",
    "\n",
    "ax.legend(loc='upper left')\n",
    "pyplot.show()"
   ]
  },
  {
   "cell_type": "code",
   "execution_count": null,
   "metadata": {},
   "outputs": [],
   "source": [
    "pyplot.figure(figsize=(18,10))\n",
    "\n",
    "ax = pyplot.subplot(111)\n",
    "ax.xaxis_date()\n",
    "plot.bar_with_sma_line(ax ,(storage.get_region_report(\"Russia\", \"Москва\")[\"Confirmed_Change\"] / storage.get_country_report(\"Russia\")['Confirmed_Change'])*100)\n",
    "ax.set_xlim(pd.to_datetime(\"01-04-2020\",dayfirst=True))\n",
    "ax.set_title('Процентное соотношение новых случаев в Москве к России')\n",
    "pyplot.show()"
   ]
  },
  {
   "cell_type": "code",
   "execution_count": null,
   "metadata": {},
   "outputs": [],
   "source": [
    "(storage.get_region_report(\"Russia\", \"Москва\")[\"Confirmed_Change\"] / storage.get_country_report(\"Russia\")['Confirmed_Change'])*100"
   ]
  },
  {
   "cell_type": "code",
   "execution_count": null,
   "metadata": {},
   "outputs": [],
   "source": [
    "pyplot.figure(figsize=(18,10))\n",
    "\n",
    "ax = pyplot.subplot(111)\n",
    "ax.xaxis_date()\n",
    "\n",
    "country_name = \"Russia\"\n",
    "column_name = \"Rt\"\n",
    "all_regions = storage.get_regions_report_by_column(country_name,column_name,)#.rolling(window=3).mean()\n",
    "\n",
    "for region in all_regions.columns:\n",
    "    ax.plot(all_regions.index, all_regions[region], alpha = .05, color = \"Black\")\n",
    "\n",
    "mean = all_regions.mean(axis=1)\n",
    "median = all_regions.median(axis=1)\n",
    "plot.key_russian_dates(ax)\n",
    "ax.plot(mean.index,mean, color = \"Blue\", label = \"Средняя\")\n",
    "ax.plot(median.index,median, color = \"Gold\", label=\"Медиана\")\n",
    "ax.axhline(1, color='Red', linestyle='dashed')\n",
    "\n",
    "ax.set_xlim(start_date)\n",
    "ax.set_ylim(0,2)\n",
    "\n",
    "\n",
    "ax.legend()\n",
    "pyplot.title(r\"$R_t$ по регионам России\")\n",
    "pyplot.show()"
   ]
  },
  {
   "cell_type": "code",
   "execution_count": null,
   "metadata": {},
   "outputs": [],
   "source": [
    "pyplot.figure(figsize=(18,10))\n",
    "\n",
    "ax = pyplot.subplot(111)\n",
    "ax.xaxis_date()\n",
    "\n",
    "country_name = \"Russia\"\n",
    "column_name = \"Time_To_Resolve\"\n",
    "all_regions = storage.get_regions_report_by_column(country_name,column_name)\n",
    "\n",
    "for region in all_regions.columns:\n",
    "    ax.plot(all_regions.index, all_regions[region], alpha = .1, color = \"Blue\")\n",
    "\n",
    "median = all_regions.median(axis=1)\n",
    "quantile = all_regions.quantile(.75,axis = 1)\n",
    "plot.key_russian_dates(ax)\n",
    "ax.plot(median.index,median, color = \"DarkGreen\", label=\"Медиана\")\n",
    "ax.plot(quantile.index,quantile, color = \"Orange\", label=\"Квантиль 75\")\n",
    "\n",
    "ax.set_xlim(start_date)\n",
    "\n",
    "\n",
    "ax.grid(axis='y', color='black', linestyle='dashed', alpha=0.4)\n",
    "ax.legend()\n",
    "pyplot.title(r\"$TTR$ по регионам России\")\n",
    "pyplot.show()"
   ]
  }
 ],
 "metadata": {
  "celltoolbar": "Отсутствует",
  "kernelspec": {
   "display_name": "Python 3",
   "language": "python",
   "name": "python3"
  },
  "language_info": {
   "codemirror_mode": {
    "name": "ipython",
    "version": 3
   },
   "file_extension": ".py",
   "mimetype": "text/x-python",
   "name": "python",
   "nbconvert_exporter": "python",
   "pygments_lexer": "ipython3",
   "version": "3.8.3-final"
  }
 },
 "nbformat": 4,
 "nbformat_minor": 2
}