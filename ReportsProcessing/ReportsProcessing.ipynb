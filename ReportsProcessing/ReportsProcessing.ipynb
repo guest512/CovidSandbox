{
 "cells": [
  {
   "cell_type": "code",
   "execution_count": null,
   "metadata": {
    "tags": []
   },
   "outputs": [],
   "source": [
    "import pandas as pd\n",
    "import numpy as np\n",
    "from utils import storage, plot, helpers, dates\n",
    "\n",
    "from IPython.display import display, Markdown\n",
    "from matplotlib import pyplot\n",
    "\n"
   ]
  },
  {
   "cell_type": "code",
   "execution_count": null,
   "metadata": {
    "tags": []
   },
   "outputs": [],
   "source": [
    "today = dates.last_day\n",
    "one_day = dates.one_day\n",
    "yesterday = today - one_day\n",
    "\n",
    "display(Markdown('# Песочница по статистике по коронавирусу COVID-19'))\n",
    "display(Markdown('---'))\n",
    "with helpers.setlocale_ctx('ru_RU'):\n",
    "    display(Markdown(f\"DISCLAIMER: Данные в отчетах охватывают период с '_{dates.first_day.date().strftime('%d %B, %Y')}_' по '_{dates.last_day.date().strftime('%d %B, %Y')}_'. \\\n",
    "        За \\\"Сегодня\\\" принят последний доступный день в отчетах\"))"
   ]
  },
  {
   "cell_type": "code",
   "execution_count": null,
   "metadata": {},
   "outputs": [],
   "source": [
    "display(Markdown(\"## Топ десять стран по количеству заболевших на \\\"Сегодня\\\"\"))\n",
    "display(Markdown(\"В таблице представлены ТОП-10 стран отсортированны по количеству заболевших на \\\"Сегодня\\\", а также с данными по количеству заболевших за последние 7 дней\"))\n",
    "\n",
    "storage.get_countries_report_by_column(\"Confirmed_Change\", start_date=today - one_day * 6).fillna(0).sort_values(by=today, axis = 1).iloc[:,-10:]"
   ]
  },
  {
   "cell_type": "code",
   "execution_count": null,
   "metadata": {
    "tags": []
   },
   "outputs": [],
   "source": [
    "display(Markdown(\"## Динамика ТОП-5 стран по количеству заболевших на \\\"Сегодня\\\"\"))\n",
    "display(Markdown(\"Здесь и ниже суффикс SMA означает среднее количество за N дней.\"))\n",
    "\n",
    "countries_list = list(storage.get_countries_report_by_column(\"Confirmed_Change\", start_date=today).fillna(0).sort_values(by=today, axis = 1).iloc[:,-5:].columns)\n",
    "\n",
    "pyplot.figure(figsize=(18,10))\n",
    "\n",
    "ax = pyplot.subplot(111)\n",
    "ax.xaxis_date()\n",
    "\n",
    "column_name = 'Confirmed_Change'\n",
    "\n",
    "for country in countries_list:\n",
    "    country_df = storage.get_country_report(country)\n",
    "    plot.bar_with_sma_line(ax, country_df[column_name], 10, country, 0.1)\n",
    "ax.legend()\n",
    "ax.set_xlim(pd.to_datetime('15-03-2020', dayfirst=True))\n",
    "ax.set_ylim(bottom=100)\n",
    "pyplot.yscale(\"log\")\n",
    "pyplot.show()"
   ]
  },
  {
   "cell_type": "code",
   "execution_count": null,
   "metadata": {
    "tags": []
   },
   "outputs": [],
   "source": [
    "pyplot.figure(figsize=(18,10))\n",
    "\n",
    "ax = pyplot.subplot(111)\n",
    "ax.xaxis_date()\n",
    "\n",
    "all_countries = storage.get_countries_report_by_column(column_name).fillna(0).apply(helpers.normalize)\n",
    "mean = all_countries.mean(axis=1)\n",
    "median = all_countries.quantile(.5, axis=1)\n",
    "\n",
    "plot.bar_with_sma_line(ax, mean, label=\"Среднее\")\n",
    "plot.bar_with_sma_line(ax, median, label=\"Медианное\")\n",
    "ax.legend()\n",
    "\n",
    "ax.set_xlim(pd.to_datetime('01-03-2020', dayfirst=True))\n",
    "#ax.set_ylim(bottom=0, top = 1)\n",
    "pyplot.title(\"Нормализованное количество заболевших в день\")\n",
    "pyplot.show()\n"
   ]
  },
  {
   "cell_type": "code",
   "execution_count": null,
   "metadata": {
    "tags": []
   },
   "outputs": [],
   "source": [
    "column_name = \"Confirmed_Change\"\n",
    "start_date = pd.to_datetime('01-04-2020', dayfirst=True)\n",
    "\n",
    "moscow_df = storage.get_region_report(\"Russia\", \"Москва\")[start_date:]\n",
    "regions_df = storage.get_regions_report_by_column(\"Russia\", column_name, exclude=[\"Москва\"], start_date=start_date)\n"
   ]
  },
  {
   "cell_type": "code",
   "execution_count": null,
   "metadata": {},
   "outputs": [],
   "source": [
    "pyplot.figure(figsize=(18,10))\n",
    "\n",
    "ax = pyplot.subplot(111)\n",
    "ax.xaxis_date()\n",
    "\n",
    "regions_df['Total'] = 0\n",
    "regions_df['Total'] = regions_df.sum(axis = 1)\n",
    "\n",
    "plot.bar_with_sma_line(ax, regions_df.Total, 3, 'Регионы')\n",
    "plot.bar_with_sma_line(ax, moscow_df[column_name], 3, 'Москва')\n",
    "plot.key_russian_dates(ax)\n",
    "\n",
    "#ax.set_ylim(bottom=5000, top = 6500)\n",
    "ax.legend(loc='upper left')\n",
    "ax.set_title('Количество заболевших в день в Москве и остальной России')\n",
    "ax.grid(axis='y', color='black', linestyle='dashed', alpha=0.4)\n",
    "pyplot.show()"
   ]
  },
  {
   "cell_type": "code",
   "execution_count": null,
   "metadata": {},
   "outputs": [],
   "source": [
    "pyplot.figure(figsize=(24,12))\n",
    "\n",
    "ax = pyplot.subplot(111)\n",
    "ax.xaxis_date()\n",
    "\n",
    "column_name = 'Confirmed_Change'\n",
    "\n",
    "for region_name in [\"Санкт-Петербург\", \"Ростовская обл.\", \"Краснодарский край\", \"Хабаровский край\"]:\n",
    "    region_df = storage.get_region_report(\"Russia\", region_name)[start_date:]\n",
    "\n",
    "    plot.bar_with_sma_line(ax, region_df[column_name], 7, region_name+'-'+column_name)\n",
    "plot.key_russian_dates(ax)\n",
    "\n",
    "#ax.set_ylim(bottom=5000, top = 6500)\n",
    "ax.legend(loc='upper left')\n",
    "pyplot.show()"
   ]
  },
  {
   "cell_type": "code",
   "execution_count": null,
   "metadata": {
    "scrolled": false,
    "tags": []
   },
   "outputs": [],
   "source": [
    "regions = [\"Москва\", \"Санкт-Петербург\", \"Ростовская обл.\", \"Краснодарский край\"] #list(utils.get_country_regions(\"Russia\"))\n",
    "figure = pyplot.figure(figsize=(24,12))\n",
    "plot.report(figure, storage.get_country_report(\"Russia\")[60:], \"Россия\")\n",
    "\n",
    "for region in regions:\n",
    "    figure = pyplot.figure(figsize=(24,12))\n",
    "    plot.report(figure, storage.get_region_report(\"Russia\", region)[60:], region)"
   ]
  },
  {
   "cell_type": "code",
   "execution_count": null,
   "metadata": {
    "tags": []
   },
   "outputs": [],
   "source": [
    "pyplot.figure(figsize=(18,10))\n",
    "\n",
    "ax = pyplot.subplot(111)\n",
    "ax.xaxis_date()\n",
    "\n",
    "country_name = \"Russia\"\n",
    "column_name = \"Confirmed_Change\"\n",
    "all_regions = storage.get_regions_report_by_column(country_name,column_name,start_date=pd.to_datetime(\"01-04-2020\",dayfirst=True)).apply(helpers.normalize)\n",
    "\n",
    "for region in all_regions.columns:\n",
    "    ax.bar(all_regions.index, all_regions[region], alpha = 1/len(all_regions), color = \"Blue\")\n",
    "\n",
    "mean = all_regions.mean(axis=1)\n",
    "median = all_regions.median(axis=1)\n",
    "ax.plot(mean.index,mean, color = \"Red\", label = \"Mean\")\n",
    "ax.plot(median.index,median, color = \"Yellow\", label=\"Median\")\n",
    "ax.set_ylim(bottom=0, top = 1)\n",
    "ax.grid(axis='y', color='black', linestyle='dashed', alpha=0.4)\n",
    "ax.legend()\n",
    "pyplot.title(\"Нормализованное количество заболевших в день\")\n",
    "pyplot.show()\n"
   ]
  },
  {
   "cell_type": "code",
   "execution_count": null,
   "metadata": {},
   "outputs": [],
   "source": [
    "t1 = storage.get_region_report(\"Russia\",\"Санкт-Петербург\")['Confirmed_Change'].rolling(window=4).sum()\n",
    "t2 = t1.shift(periods=4)\n",
    "res =(t1/t2).apply(lambda x: np.nan_to_num(x, posinf=0, neginf=0))\n",
    "pyplot.figure(figsize=(18,10))\n",
    "\n",
    "ax = pyplot.subplot(111)\n",
    "ax.xaxis_date()\n",
    "\n",
    "plot.bar_with_sma_line(ax, res, 14)\n",
    "ax.set_xlim(pd.to_datetime(\"01-04-2020\",dayfirst=True))\n",
    "ax.set_ylim(0.8,2)\n",
    "pyplot.show()"
   ]
  },
  {
   "cell_type": "code",
   "execution_count": null,
   "metadata": {},
   "outputs": [],
   "source": [
    "t1"
   ]
  },
  {
   "cell_type": "code",
   "execution_count": null,
   "metadata": {},
   "outputs": [],
   "source": [
    "t2"
   ]
  },
  {
   "cell_type": "code",
   "execution_count": null,
   "metadata": {},
   "outputs": [],
   "source": [
    "pyplot.figure(figsize=(18,10))\n",
    "\n",
    "ax = pyplot.subplot(111)\n",
    "ax.xaxis_date()\n",
    "plot.bar_with_sma_line(ax ,(storage.get_region_report(\"Russia\", \"Москва\")[\"Confirmed_Change\"] / storage.get_country_report(\"Russia\")['Confirmed_Change'])*100)\n",
    "ax.set_xlim(pd.to_datetime(\"01-04-2020\",dayfirst=True))\n"
   ]
  },
  {
   "cell_type": "code",
   "execution_count": null,
   "metadata": {},
   "outputs": [],
   "source": []
  },
  {
   "cell_type": "code",
   "execution_count": null,
   "metadata": {},
   "outputs": [],
   "source": []
  }
 ],
 "metadata": {
  "kernelspec": {
   "display_name": "Python 3",
   "language": "python",
   "name": "python3"
  },
  "language_info": {
   "codemirror_mode": {
    "name": "ipython",
    "version": 3
   },
   "file_extension": ".py",
   "mimetype": "text/x-python",
   "name": "python",
   "nbconvert_exporter": "python",
   "pygments_lexer": "ipython3",
   "version": "3.8.3-final"
  }
 },
 "nbformat": 4,
 "nbformat_minor": 2
}