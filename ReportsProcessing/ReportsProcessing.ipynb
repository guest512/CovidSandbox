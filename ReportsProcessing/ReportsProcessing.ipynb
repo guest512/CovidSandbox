{
 "cells": [
  {
   "cell_type": "code",
   "execution_count": null,
   "metadata": {
    "tags": []
   },
   "outputs": [],
   "source": [
    "import pandas as pd\n",
    "import numpy as np\n",
    "from utils import storage, plot, helpers\n",
    "\n",
    "from IPython.display import display, Markdown\n",
    "from matplotlib import pyplot\n",
    "\n"
   ]
  },
  {
   "cell_type": "code",
   "execution_count": null,
   "metadata": {
    "tags": []
   },
   "outputs": [],
   "source": [
    "start_day, finish_day = storage.get_dates()\n",
    "today = finish_day\n",
    "one_day = pd.Timedelta('1 days')\n",
    "yesterday = today - one_day\n",
    "\n",
    "display(Markdown('# Песочница по статистике по коронавирусу COVID-19'))\n",
    "display(Markdown('---'))\n",
    "with helpers.setlocale_ctx('ru'):\n",
    "    display(Markdown(f\"DISCLAIMER: Данные в отчетах охватывают период с '_{start_day.date().strftime('%d %B, %Y')}_' по '_{finish_day.date().strftime('%d %B, %Y')}_'. \\\n",
    "        За \\\"Сегодня\\\" принят последний доступный день в отчетах\"))"
   ]
  },
  {
   "cell_type": "code",
   "execution_count": null,
   "metadata": {},
   "outputs": [],
   "source": [
    "display(Markdown(\"## Топ десять стран по количеству заболевших на \\\"Сегодня\\\"\"))\n",
    "display(Markdown(\"В таблице представлены ТОП-10 стран отсортированны по количеству заболевших на \\\"Сегодня\\\", а также с данными по количеству заболевших за последние 7 дней\"))\n",
    "\n",
    "storage.get_countries_report_by_column(\"Confirmed_Change\", start_date=today - one_day * 6).fillna(0).sort_values(by=today, axis = 1).iloc[:,-10:]"
   ]
  },
  {
   "cell_type": "code",
   "execution_count": null,
   "metadata": {
    "tags": []
   },
   "outputs": [],
   "source": [
    "display(Markdown(\"## Динамика ТОП-5 стран по количеству заболевших на \\\"Сегодня\\\"\"))\n",
    "display(Markdown(\"Здесь и ниже суффикс SMA означает среднее количество за N дней.\"))\n",
    "\n",
    "countries_list = list(storage.get_countries_report_by_column(\"Confirmed_Change\", start_date=today).fillna(0).sort_values(by=today, axis = 1).iloc[:,-5:].columns)\n",
    "\n",
    "pyplot.figure(figsize=(18,10))\n",
    "\n",
    "ax = pyplot.subplot(111)\n",
    "ax.xaxis_date()\n",
    "\n",
    "column_name = 'Confirmed_Change'\n",
    "\n",
    "for country in countries_list:\n",
    "    country_df = storage.get_country_report(country)\n",
    "   \n",
    "    country_df[column_name+'_SMA3'] = country_df[column_name].rolling(window=3).mean()\n",
    "    ax.bar(country_df.index, country_df[column_name].values, alpha=0.1)\n",
    "    ax.plot(country_df.index, country_df[column_name+'_SMA3'].values, label=country + '-SMA3') \n",
    "\n",
    "ax.legend()\n",
    "ax.set_xlim(pd.to_datetime('15-03-2020', dayfirst=True))\n",
    "ax.set_ylim(bottom=100)\n",
    "pyplot.yscale(\"log\")\n",
    "pyplot.show()"
   ]
  },
  {
   "cell_type": "code",
   "execution_count": null,
   "metadata": {
    "tags": []
   },
   "outputs": [],
   "source": [
    "pyplot.figure(figsize=(18,10))\n",
    "\n",
    "ax = pyplot.subplot(111)\n",
    "ax.xaxis_date()\n",
    "\n",
    "all_countries = storage.get_countries()\n",
    "\n",
    "for country in all_countries:\n",
    "    country_df = storage.get_country_report(country)\n",
    "\n",
    "    country_df['Confirmed_Change_Normalized'] = helpers.normalize(country_df['Confirmed_Change'])\n",
    "    country_df['Confirmed_Change_SMA7'] = helpers.normalize(country_df['Confirmed_Change'].rolling(window=7).mean())\n",
    "    country_df['Confirmed_Change_SMA14'] = helpers.normalize(country_df['Confirmed_Change'].rolling(window=14).mean())\n",
    "\n",
    "    ax.bar(country_df.index, country_df['Confirmed_Change_Normalized'].values, alpha = 1/len(all_countries), color = \"Blue\")\n",
    "\n",
    "ax.set_xlim(pd.to_datetime('01-03-2020', dayfirst=True))\n",
    "ax.set_ylim(bottom=0, top = 1)\n",
    "pyplot.title(\"Нормализованное количество заболевших в день\")\n",
    "pyplot.show()\n"
   ]
  },
  {
   "cell_type": "code",
   "execution_count": null,
   "metadata": {
    "tags": []
   },
   "outputs": [],
   "source": [
    "column_name = \"Confirmed_Change\"\n",
    "start_date = pd.to_datetime('01-04-2020', dayfirst=True)\n",
    "\n",
    "moscow_df = storage.get_region_report(\"Russia\", \"Москва\")[start_date:]\n",
    "regions_df = storage.get_regions_report_by_column(\"Russia\", column_name, exclude=[\"Москва\"], start_date=start_date)\n"
   ]
  },
  {
   "cell_type": "code",
   "execution_count": null,
   "metadata": {},
   "outputs": [],
   "source": [
    "pyplot.figure(figsize=(18,10))\n",
    "\n",
    "ax = pyplot.subplot(111)\n",
    "ax.xaxis_date()\n",
    "\n",
    "regions_df['Total'] = 0\n",
    "regions_df['Total'] = regions_df.sum(axis = 1)\n",
    "\n",
    "ax.bar(regions_df.index, regions_df['Total'].values, label = 'Регионы', alpha=0.3)\n",
    "ax.plot(regions_df.index, regions_df['Total'].rolling(window=3).mean(), label= 'Регионы-SMA3')\n",
    "\n",
    "ax.bar(moscow_df.index, moscow_df[column_name].values, label = 'Москва', alpha = 0.3)\n",
    "ax.plot(moscow_df.index, moscow_df[column_name].rolling(window=3).mean(), label= 'Москва-SMA3')\n",
    "\n",
    "\n",
    "plot.draw_key_russian_dates(ax)\n",
    "\n",
    "#ax.set_ylim(bottom=5000, top = 6500)\n",
    "ax.legend(loc='upper left')\n",
    "ax.set_title('Количество заболевших в день в Москве и остальной России')\n",
    "ax.grid(axis='y', color='black', linestyle='dashed', alpha=0.4)\n",
    "pyplot.show()"
   ]
  },
  {
   "cell_type": "code",
   "execution_count": null,
   "metadata": {},
   "outputs": [],
   "source": [
    "pyplot.figure(figsize=(20,15))\n",
    "\n",
    "ax = pyplot.subplot(111)\n",
    "ax.xaxis_date()\n",
    "\n",
    "column_name = 'Confirmed_Change'\n",
    "\n",
    "for region_name in [\"Санкт-Петербург\", \"Ростовская обл.\", \"Краснодарский край\", \"Хабаровский край\"]:\n",
    "    region_df = storage.get_region_report(\"Russia\", region_name)[start_date:]\n",
    "\n",
    "    ax.bar(region_df.index, region_df[column_name].values, label = region_name+'-'+column_name, alpha=0.3)\n",
    "    ax.plot(\n",
    "        region_df.index,\n",
    "        region_df[column_name].rolling(window=3).mean().values,\n",
    "        label = region_name+'-'+column_name+'-SMA3',\n",
    "        alpha=0.9)\n",
    "\n",
    "plot.draw_key_russian_dates(ax)\n",
    "\n",
    "#ax.set_ylim(bottom=5000, top = 6500)\n",
    "ax.legend(loc='upper left')\n",
    "pyplot.show()"
   ]
  },
  {
   "cell_type": "code",
   "execution_count": null,
   "metadata": {
    "tags": []
   },
   "outputs": [],
   "source": [
    "def foo(df: pd.DataFrame, name: str):\n",
    "    dfdf = df\n",
    "    dfdf_weekly = dfdf.resample(\"1W\").sum()\n",
    "    dfdf_monthly = dfdf.resample(\"1M\").sum()\n",
    "\n",
    "    index = dfdf.index\n",
    "    index_weekly = dfdf_weekly.index\n",
    "    index_monthly = dfdf_monthly.index\n",
    "\n",
    "    confirmed_daily = dfdf.Confirmed_Change\n",
    "    confirmed_daily_SMA7 = confirmed_daily.rolling(window=7).mean()\n",
    "\n",
    "    recovered_daily = dfdf.Recovered_Change\n",
    "    recovered_daily_SMA7 = recovered_daily.rolling(window=7).mean()\n",
    "\n",
    "    deaths_daily = dfdf.Deaths_Change\n",
    "    deaths_daily_SMA7 = deaths_daily.rolling(window=7).mean()\n",
    "\n",
    "    confirmed_weekly = dfdf_weekly.Confirmed_Change\n",
    "    confirmed_monthly = dfdf_monthly.Confirmed_Change\n",
    "\n",
    "    recovered_weekly = dfdf_weekly.Recovered_Change\n",
    "    recovered_monthly = dfdf_monthly.Recovered_Change\n",
    "\n",
    "    deaths_weekly = dfdf_weekly.Deaths_Change\n",
    "    deaths_monthly = dfdf_monthly.Deaths_Change\n",
    "\n",
    "\n",
    "    active = dfdf.Active\n",
    "    active_SMA7 = active.rolling(window=7).mean()\n",
    "\n",
    "\n",
    "    pyplot.figure(figsize=(18*2,10*2))\n",
    "    ax = pyplot.subplot(2,2,1)\n",
    "\n",
    "    ax.bar(index, confirmed_daily, label = 'Заболевшие', alpha=0.3)\n",
    "    ax.plot(index, confirmed_daily_SMA7, label= 'Заболевшие-SMA7')\n",
    "\n",
    "    ax.bar(index, recovered_daily, label = 'Выздоровевшие', alpha = 0.3)\n",
    "    ax.plot(index, recovered_daily_SMA7, label= 'Выздоровевшие-SMA7')\n",
    "\n",
    "    ax.bar(index, deaths_daily, label = 'Смерти', alpha = 0.3, bottom = recovered_daily)\n",
    "    ax.plot(index, recovered_daily_SMA7+deaths_daily_SMA7, label= 'Смерти-SMA7')\n",
    "\n",
    "    plot.setup_axes_for_russian_regions_stat(ax, \"Статистика день ко дню\")\n",
    "\n",
    "    ax = pyplot.subplot(2,2,2)\n",
    "\n",
    "    ax.bar(index, active, label = 'Больные', alpha=0.3)\n",
    "    ax.plot(index, active_SMA7, label= 'Больные-SMA7')\n",
    "\n",
    "    plot.setup_axes_for_russian_regions_stat(ax, \"Количество больных\")\n",
    "\n",
    "    ax = pyplot.subplot(2,2,3)\n",
    "\n",
    "    ax.bar(index_weekly, confirmed_weekly, label = 'Заболевшие', width = 2)\n",
    "    ax.bar(index_weekly + one_day, recovered_weekly, label = 'Выздоровевшие', width = 2)\n",
    "    ax.bar(index_weekly + one_day * 2, deaths_weekly, label = 'Смерти', width = 2)\n",
    "\n",
    "\n",
    "    plot.setup_axes_for_russian_regions_stat(ax, \"Статистика неделя к неделе\")\n",
    "\n",
    "    ax = pyplot.subplot(2,2,4)\n",
    "\n",
    "    ax.bar(index_monthly, confirmed_monthly, label = 'Заболевшие', width = 2)\n",
    "    ax.bar(index_monthly + one_day, recovered_monthly, label = 'Выздоровевшие', width = 2)\n",
    "    ax.bar(index_monthly + one_day * 2, deaths_monthly, label = 'Смерти', width = 2)\n",
    "\n",
    "\n",
    "    plot.setup_axes_for_russian_regions_stat(ax, \"Статистика месяц к месяцу\")\n",
    "\n",
    "    pyplot.suptitle(name)\n",
    "    pyplot.show()\n",
    "\n",
    "regions = [\"Санкт-Петербург\", \"Краснодарский край\", \"Ростовская обл.\", \"Хабаровский край\", \"Москва\", \"Московская обл.\", \"Татарстан\"] #list(utils.get_country_regions(\"Russia\"))\n",
    "\n",
    "foo(storage.get_country_report(\"Russia\")[60:], \"Россия\")\n",
    "\n",
    "for region in regions:\n",
    "    dfdf = storage.get_region_report(\"Russia\", region)[60:]\n",
    "    name = region\n",
    "    foo(dfdf, name)\n",
    "\n"
   ]
  },
  {
   "cell_type": "code",
   "execution_count": null,
   "metadata": {
    "tags": []
   },
   "outputs": [],
   "source": [
    "pyplot.figure(figsize=(18,10))\n",
    "\n",
    "ax = pyplot.subplot(111)\n",
    "ax.xaxis_date()\n",
    "\n",
    "country_name = \"Russia\"\n",
    "all_regions = storage.get_country_regions(country_name)\n",
    "total = pd.DataFrame()\n",
    "\n",
    "for region in all_regions:\n",
    "    print(region)\n",
    "    region_df = storage.get_region_report(country_name, region)[pd.to_datetime(\"01-04-2020\",dayfirst=True):]\n",
    "\n",
    "    region_df['Confirmed_Change_Normalized'] = helpers.normalize(region_df['Confirmed_Change'])\n",
    "\n",
    "    ax.bar(region_df.index, region_df['Confirmed_Change_Normalized'].values, alpha = 1/len(all_regions), color = \"Blue\")\n",
    "    total[region] = region_df['Confirmed_Change_Normalized']\n",
    "\n",
    "total[\"Mean\"] = total.mean(axis=1)\n",
    "total[\"Median\"] = total.iloc[:,:-1].median(axis=1)\n",
    "ax.plot(total.index,total.Mean, color = \"Red\")\n",
    "ax.plot(total.index,total.Median, color = \"Yellow\")\n",
    "ax.set_ylim(bottom=0, top = 1)\n",
    "ax.grid(axis='y', color='black', linestyle='dashed', alpha=0.4)\n",
    "ax.legend(loc = 'upper left')\n",
    "pyplot.title(\"Нормализованное количество заболевших в день\")\n",
    "pyplot.show()\n"
   ]
  },
  {
   "cell_type": "code",
   "execution_count": null,
   "metadata": {
    "tags": []
   },
   "outputs": [],
   "source": [
    "pyplot.figure(figsize=(18,10))\n",
    "\n",
    "ax = pyplot.subplot(111)\n",
    "ax.xaxis_date()\n",
    "russia = storage.get_regions_report_by_column(country_name, \"Confirmed_Change\",start_date =pd.to_datetime(\"01-04-2020\",dayfirst=True))\n",
    "russia[\"Confirmed_Change\"] = russia.sum(axis=1)\n",
    "ax.plot(total.index, helpers.normalize(total.Mean), color = \"Red\")\n",
    "ax.plot(russia.index, helpers.normalize(russia.Confirmed_Change), color = \"Orange\")\n",
    "ax.set_ylim(bottom=0, top = 1)\n",
    "ax.grid(axis='y', color='black', linestyle='dashed', alpha=0.4)\n",
    "#ax.legend(loc = 'upper left')\n",
    "#utils.draw_key_russian_dates_on_plot(ax)\n",
    "pyplot.show()"
   ]
  },
  {
   "cell_type": "code",
   "execution_count": null,
   "metadata": {},
   "outputs": [],
   "source": []
  }
 ],
 "metadata": {
  "kernelspec": {
   "display_name": "Python 3",
   "language": "python",
   "name": "python3"
  },
  "language_info": {
   "codemirror_mode": {
    "name": "ipython",
    "version": 3
   },
   "file_extension": ".py",
   "mimetype": "text/x-python",
   "name": "python",
   "nbconvert_exporter": "python",
   "pygments_lexer": "ipython3",
   "version": "3.8.3-final"
  }
 },
 "nbformat": 4,
 "nbformat_minor": 2
}