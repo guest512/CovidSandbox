{
 "cells": [
  {
   "cell_type": "code",
   "execution_count": null,
   "metadata": {
    "tags": []
   },
   "outputs": [],
   "source": [
    "import pandas as pd\n",
    "import numpy as np\n",
    "import utils\n",
    "\n",
    "from IPython.display import display, Markdown\n",
    "from matplotlib import pyplot"
   ]
  },
  {
   "cell_type": "code",
   "execution_count": null,
   "metadata": {
    "tags": []
   },
   "outputs": [],
   "source": [
    "today = utils.last_day\n",
    "yesterday = today - utils.one_day\n",
    "\n",
    "display(Markdown('# Песочница по статистике по коронавирусу COVID-19'))\n",
    "display(Markdown('---'))\n",
    "with utils.setlocale_ctx('ru_RU'):\n",
    "    display(Markdown(f\"Данные в отчетах охватывают период \\\n",
    "         с '_{utils.first_day.date().strftime('%d %B, %Y')}_' \\\n",
    "         по '_{utils.last_day.date().strftime('%d %B, %Y')}_'. \\\n",
    "        За \\\"Сегодня\\\" принят последний доступный день в отчетах\"))"
   ]
  },
  {
   "cell_type": "code",
   "execution_count": null,
   "metadata": {},
   "outputs": [],
   "source": [
    "display(Markdown(\"## Топ десять стран по количеству заболевших на \\\"Сегодня\\\"\"))\n",
    "display(Markdown(\"В таблице представлены ТОП-10 стран отсортированны по количеству заболевших на \\\"Сегодня\\\", а также с данными по количеству заболевших за последние 7 дней\"))\n",
    "\n",
    "utils.storage.get_countries_report_by_column(\"Confirmed_Change\", start_date=today - utils.one_day * 6).fillna(0).sort_values(by=today, axis = 1).iloc[:,-10:]"
   ]
  },
  {
   "cell_type": "code",
   "execution_count": null,
   "metadata": {
    "tags": []
   },
   "outputs": [],
   "source": [
    "display(Markdown(\"## Динамика ТОП-5 стран по количеству заболевших на \\\"Сегодня\\\"\"))\n",
    "display(Markdown(\"Здесь и ниже суффикс SMA означает среднее количество за N дней.\"))\n",
    "\n",
    "countries_list = list(utils.storage.get_countries_report_by_column(\"Confirmed_Change\", start_date=today).fillna(0).sort_values(by=today, axis = 1).iloc[:,-5:].columns)\n",
    "\n",
    "pyplot.figure(figsize=(18,10))\n",
    "\n",
    "ax = pyplot.subplot(111)\n",
    "ax.xaxis_date()\n",
    "\n",
    "column_name = 'Confirmed_Change'\n",
    "\n",
    "for country in countries_list:\n",
    "    country_df = utils.storage.get_country_report(country)\n",
    "    utils.plot.bar_with_sma_line(ax, country_df[column_name], 10, country, 0.1)\n",
    "ax.legend(loc='upper left')\n",
    "ax.set_xlim(utils.str_to_datetime('15-03-2020'), today)\n",
    "ax.set_ylim(bottom=100)\n",
    "pyplot.yscale(\"log\")\n",
    "pyplot.show()"
   ]
  },
  {
   "cell_type": "code",
   "execution_count": null,
   "metadata": {
    "tags": []
   },
   "outputs": [],
   "source": [
    "pyplot.figure(figsize=(18,10))\n",
    "\n",
    "ax = pyplot.subplot(111)\n",
    "ax.xaxis_date()\n",
    "\n",
    "all_countries = utils.storage.get_countries_report_by_column(column_name).fillna(0).apply(utils.data.normalize)\n",
    "mean = all_countries.mean(axis=1)\n",
    "median = all_countries.quantile(.5, axis=1)\n",
    "\n",
    "utils.plot.bar_with_sma_line(ax, mean, label=\"Среднее\")\n",
    "utils.plot.bar_with_sma_line(ax, median, label=\"Медианное\")\n",
    "ax.legend()\n",
    "\n",
    "ax.set_xlim(utils.str_to_datetime('01-03-2020'), today)\n",
    "pyplot.title(\"Нормализованное количество заболевших в день\")\n",
    "pyplot.show()\n"
   ]
  },
  {
   "cell_type": "code",
   "execution_count": null,
   "metadata": {
    "tags": []
   },
   "outputs": [],
   "source": [
    "column_name = \"Confirmed_Change\"\n",
    "start_date = utils.str_to_datetime('01-04-2020')\n",
    "\n",
    "moscow_df = utils.storage.get_region_report(\"Russia\", \"Москва\")[start_date:]\n",
    "regions_df = utils.storage.get_regions_report_by_column(\"Russia\", column_name, exclude=[\"Москва\"], start_date=start_date)\n"
   ]
  },
  {
   "cell_type": "code",
   "execution_count": null,
   "metadata": {},
   "outputs": [],
   "source": [
    "pyplot.figure(figsize=(18,10))\n",
    "\n",
    "ax = pyplot.subplot(111)\n",
    "ax.xaxis_date()\n",
    "\n",
    "regions_df['Total'] = 0\n",
    "regions_df['Total'] = regions_df.sum(axis = 1)\n",
    "\n",
    "utils.plot.bar_with_sma_line(ax, regions_df.Total, 3, 'Регионы')\n",
    "utils.plot.bar_with_sma_line(ax, moscow_df[column_name], 3, 'Москва')\n",
    "utils.plot.key_russian_dates(ax)\n",
    "\n",
    "#ax.set_ylim(bottom=5000, top = 6500)\n",
    "ax.legend(loc='center left')\n",
    "ax.set_title('Количество заболевших в день в Москве и остальной России')\n",
    "ax.grid(axis='y', color='black', linestyle='dashed', alpha=0.4)\n",
    "pyplot.show()"
   ]
  },
  {
   "cell_type": "code",
   "execution_count": null,
   "metadata": {},
   "outputs": [],
   "source": [
    "display(Markdown(\"## Динамика ТОП-10 регионов по количеству заболевших на \\\"Сегодня\\\"\"))\n",
    "display(Markdown(\"Показаны топ регионов по количетсву больных в день. Кроме Москвы\"))\n",
    "\n",
    "column_name = 'Confirmed_Change'\n",
    "regions_list = list(\n",
    "    utils.storage.get_regions_report_by_column(\n",
    "        \"Russia\", column_name, exclude=['Москва'],\n",
    "        start_date=today).fillna(0).sort_values(by=today,\n",
    "                                                axis=1).iloc[:, -10:].columns)\n",
    "regions_list.reverse()\n",
    "regions_df = utils.storage.get_regions_report_by_column(\"Russia\", column_name, include=regions_list,start_date=utils.str_to_datetime('01-04-2020'))\n",
    "\n",
    "pyplot.figure(figsize=(18,10))\n",
    "\n",
    "ax = pyplot.subplot(111)\n",
    "ax.xaxis_date()\n",
    "\n",
    "\n",
    "for region in regions_list:\n",
    "    utils.plot.bar_with_sma_line(ax, regions_df[region], 10, region, 0.1)\n",
    "ax.legend()\n",
    "ax.set_xlim(utils.str_to_datetime('01-04-2020'), today)\n",
    "pyplot.show()"
   ]
  },
  {
   "cell_type": "code",
   "execution_count": null,
   "metadata": {},
   "outputs": [],
   "source": [
    "pyplot.figure(figsize=(24,12))\n",
    "\n",
    "ax = pyplot.subplot(111)\n",
    "ax.xaxis_date()\n",
    "\n",
    "\n",
    "for region_name in [\"Санкт-Петербург\", \"Ростовская обл.\", \"Краснодарский край\", \"Хабаровский край\"]:\n",
    "    region_df = utils.storage.get_region_report(\"Russia\", region_name)[start_date:]\n",
    "\n",
    "    utils.plot.bar_with_sma_line(ax, region_df[column_name], 7, region_name+'-'+column_name, 0.2)\n",
    "utils.plot.key_russian_dates(ax)\n",
    "\n",
    "ax.legend(loc='center left')\n",
    "ax.set_xlim(right=today)\n",
    "pyplot.show()"
   ]
  },
  {
   "cell_type": "code",
   "execution_count": null,
   "metadata": {
    "scrolled": false,
    "tags": []
   },
   "outputs": [],
   "source": [
    "regions = regions_list[:4]\n",
    "regions.insert(0,\"Москва\")\n",
    "figure = pyplot.figure(figsize=(24,24))\n",
    "utils.plot.report(figure, utils.storage.get_country_report(\"Russia\"), \"Россия\", start_date = start_date, draw_key_dates=True)\n",
    "\n",
    "for region in regions:\n",
    "    figure = pyplot.figure(figsize=(24,24))\n",
    "    utils.plot.report(figure, utils.storage.get_region_report(\"Russia\", region), region, start_date = start_date, draw_key_dates=True)"
   ]
  },
  {
   "cell_type": "code",
   "execution_count": null,
   "metadata": {
    "tags": []
   },
   "outputs": [],
   "source": [
    "pyplot.figure(figsize=(18,10))\n",
    "\n",
    "ax = pyplot.subplot(111)\n",
    "ax.xaxis_date()\n",
    "\n",
    "country_name = \"Russia\"\n",
    "all_regions = utils.storage.get_regions_report_by_column(country_name ,column_name, start_date=start_date).apply(utils.data.normalize)\n",
    "\n",
    "for region in all_regions.columns:\n",
    "    ax.bar(all_regions.index, all_regions[region], alpha = 1/len(all_regions), color = \"Blue\")\n",
    "\n",
    "mean = all_regions.mean(axis=1)\n",
    "median = all_regions.median(axis=1)\n",
    "ax.plot(mean.index,mean, color = \"Red\", label = \"Mean\")\n",
    "ax.plot(median.index,median, color = \"Yellow\", label=\"Median\")\n",
    "utils.plot.key_russian_dates(ax)\n",
    "ax.axhline(1,color='black', linestyle='dashed', alpha=1)\n",
    "\n",
    "ax.set_ylim(bottom=0, top = 1)\n",
    "ax.legend()\n",
    "pyplot.title(\"Нормализованное количество заболевших в день\")\n",
    "pyplot.show()\n"
   ]
  },
  {
   "cell_type": "code",
   "execution_count": null,
   "metadata": {},
   "outputs": [],
   "source": [
    "utils.storage.get_regions_report_by_column(country_name ,column_name, start_date=start_date).apply(utils.data.normalize).median(axis=1)"
   ]
  },
  {
   "cell_type": "code",
   "execution_count": null,
   "metadata": {},
   "outputs": [],
   "source": [
    "pyplot.figure(figsize=(24,12))\n",
    "\n",
    "ax = pyplot.subplot(111)\n",
    "ax.xaxis_date()\n",
    "\n",
    "column_name = 'Rt'\n",
    "\n",
    "for region_name in [\"Санкт-Петербург\", \"Ростовская обл.\", \"Краснодарский край\", \"Хабаровский край\"]:\n",
    "    region_df = utils.storage.get_region_report(\"Russia\", region_name)\n",
    "\n",
    "    utils.plot.bar_with_sma_line(ax, region_df[column_name], 7, region_name+'-'+column_name, 0.1)\n",
    "\n",
    "ax.set_ylim(0.6, 2)\n",
    "utils.plot.key_russian_dates(ax)\n",
    "\n",
    "ax.axhline(1,color='black', linestyle='dashed', alpha=1)\n",
    "ax.set_xlim(start_date, today)\n",
    "\n",
    "\n",
    "ax.legend(loc='upper left')\n",
    "pyplot.show()"
   ]
  },
  {
   "cell_type": "code",
   "execution_count": null,
   "metadata": {},
   "outputs": [],
   "source": [
    "pyplot.figure(figsize=(18,10))\n",
    "\n",
    "ax = pyplot.subplot(111)\n",
    "ax.xaxis_date()\n",
    "utils.plot.bar_with_sma_line(ax ,(utils.storage.get_region_report(\"Russia\", \"Москва\")[\"Confirmed_Change\"] / utils.storage.get_country_report(\"Russia\")['Confirmed_Change'])*100)\n",
    "ax.set_xlim(utils.str_to_datetime(\"01-04-2020\"))\n",
    "ax.set_title('Процентное соотношение новых случаев в Москве к России')\n",
    "pyplot.show()"
   ]
  },
  {
   "cell_type": "code",
   "execution_count": null,
   "metadata": {},
   "outputs": [],
   "source": [
    "((utils.storage.get_region_report(\"Russia\", \"Москва\")[\"Confirmed_Change\"] / utils.storage.get_country_report(\"Russia\")['Confirmed_Change'])*100).tail(28)"
   ]
  },
  {
   "cell_type": "code",
   "execution_count": null,
   "metadata": {},
   "outputs": [],
   "source": [
    "pyplot.figure(figsize=(18,10))\n",
    "\n",
    "ax = pyplot.subplot(111)\n",
    "ax.xaxis_date()\n",
    "ax.set_xlim(start_date, today)\n",
    "ax.set_ylim(0,2)\n",
    "\n",
    "country_name = \"Russia\"\n",
    "column_name = \"Rt\"\n",
    "all_regions = utils.storage.get_regions_report_by_column(country_name,column_name,)#.rolling(window=3).mean()\n",
    "\n",
    "for region in all_regions.columns:\n",
    "    ax.plot(all_regions.index, all_regions[region], alpha = .05, color = \"Black\")\n",
    "\n",
    "mean = all_regions.mean(axis=1)\n",
    "median = all_regions.median(axis=1)\n",
    "#utils.plot.key_russian_dates(ax)\n",
    "ax.plot(mean.index,mean, color = \"Blue\", label = \"Средняя\")\n",
    "ax.plot(median.index,median, color = \"Gold\", label=\"Медиана\")\n",
    "ax.axhline(1, color='Red', linestyle='dashed')\n",
    "\n",
    "\n",
    "\n",
    "\n",
    "ax.legend()\n",
    "pyplot.title(r\"$R_t$ по регионам России\")\n",
    "pyplot.show()"
   ]
  },
  {
   "cell_type": "code",
   "execution_count": null,
   "metadata": {},
   "outputs": [],
   "source": [
    "pyplot.figure(figsize=(18,10))\n",
    "\n",
    "ax = pyplot.subplot(111)\n",
    "ax.xaxis_date()\n",
    "\n",
    "country_name = \"Russia\"\n",
    "column_name = \"Time_To_Resolve\"\n",
    "all_regions = utils.storage.get_regions_report_by_column(country_name,column_name)\n",
    "\n",
    "for region in all_regions.columns:\n",
    "    ax.plot(all_regions.index, all_regions[region], alpha = .1, color = \"Blue\")\n",
    "\n",
    "median = all_regions.median(axis=1)\n",
    "quantile = all_regions.quantile(.75,axis = 1)\n",
    "utils.plot.key_russian_dates(ax)\n",
    "ax.plot(median.index,median, color = \"DarkGreen\", label=\"Медиана\")\n",
    "ax.plot(quantile.index,quantile, color = \"Orange\", label=\"Квантиль 75\")\n",
    "\n",
    "ax.set_xlim(start_date, today)\n",
    "\n",
    "\n",
    "ax.grid(axis='y', color='black', linestyle='dashed', alpha=0.4)\n",
    "ax.legend()\n",
    "pyplot.title(r\"$TTR$ по регионам России\")\n",
    "pyplot.show()"
   ]
  },
  {
   "cell_type": "code",
   "execution_count": null,
   "metadata": {},
   "outputs": [],
   "source": []
  }
 ],
 "metadata": {
  "celltoolbar": "Отсутствует",
  "kernelspec": {
   "display_name": "Python 3",
   "language": "python",
   "name": "python3"
  },
  "language_info": {
   "codemirror_mode": {
    "name": "ipython",
    "version": 3
   },
   "file_extension": ".py",
   "mimetype": "text/x-python",
   "name": "python",
   "nbconvert_exporter": "python",
   "pygments_lexer": "ipython3",
   "version": "3.8.2"
  }
 },
 "nbformat": 4,
 "nbformat_minor": 2
}